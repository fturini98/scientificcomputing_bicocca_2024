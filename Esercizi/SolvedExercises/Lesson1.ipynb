{
 "cells": [
  {
   "cell_type": "markdown",
   "metadata": {},
   "source": [
    "## Q10: Tic-Tac-Toe again\n",
    "\n",
    "Revisit the tic-tac-toe game you developed in the functions exercises but now write it as a class with methods to do each of the main steps.  "
   ]
  },
  {
   "cell_type": "code",
   "execution_count": 1,
   "metadata": {},
   "outputs": [
    {
     "name": "stdout",
     "output_type": "stream",
     "text": [
      "\n",
      "            |     |    \n",
      "        ----+-----+-----\n",
      "            |     |    \n",
      "        ----+-----+-----      \n",
      "            |     |          \n",
      "                            \n",
      "        \n",
      "\n",
      "         X  |     |    \n",
      "        ----+-----+-----\n",
      "            |     |    \n",
      "        ----+-----+-----      \n",
      "            |     |          \n",
      "                            \n",
      "        \n",
      "\n",
      "         X  |     |  O \n",
      "        ----+-----+-----\n",
      "            |     |    \n",
      "        ----+-----+-----      \n",
      "            |     |          \n",
      "                            \n",
      "        \n",
      "\n",
      "         X  |     |  O \n",
      "        ----+-----+-----\n",
      "            |  X  |    \n",
      "        ----+-----+-----      \n",
      "            |     |          \n",
      "                            \n",
      "        \n",
      "\n",
      "         X  |     |  O \n",
      "        ----+-----+-----\n",
      "            |  X  |  O \n",
      "        ----+-----+-----      \n",
      "            |     |          \n",
      "                            \n",
      "        \n",
      "\n",
      "         X  |     |  O \n",
      "        ----+-----+-----\n",
      "            |  X  |  O \n",
      "        ----+-----+-----      \n",
      "            |     |  X       \n",
      "                            \n",
      "        \n",
      "Game endend! \n",
      " The winner is player 1\n",
      "See you soon!\n"
     ]
    }
   ],
   "source": [
    "from BicoccaCoursePython2024 import prima_lezione  as pl\n",
    "\n",
    "TTT=pl.tic_tac_toe()\n",
    "\n",
    "TTT.play_game()"
   ]
  },
  {
   "cell_type": "markdown",
   "metadata": {},
   "source": [
    "## Q12: Pascal's triangle\n",
    "\n",
    "Pascal's triangle is created such that each layer has 1 more element than the previous, with `1`s on the side and in the interior, the numbers are the sum of the two above it, e.g.,:\n",
    "```\n",
    "            1\n",
    "          1   1\n",
    "        1   2   1\n",
    "      1   3   3   1\n",
    "    1   4   6   4   1\n",
    "  1   5   10  10  5   1\n",
    "```\n",
    "\n",
    "1. Write a function to return the first `n` rows of Pascal's triangle.  The return should be a list of length `n`, with each element itself a list containing the numbers for that row.\n",
    "2. Write a function to print out Pascal's triangle with proper formatting, so the numbers in each row are centered between the ones in the row above"
   ]
  },
  {
   "cell_type": "code",
   "execution_count": 2,
   "metadata": {},
   "outputs": [
    {
     "name": "stdout",
     "output_type": "stream",
     "text": [
      "                1               \n",
      "             1     1            \n",
      "          1     2     1         \n",
      "       1     3     3     1      \n",
      "    1     4     6     4     1   \n",
      " 1     5    10    10     5     1\n"
     ]
    }
   ],
   "source": [
    "from BicoccaCoursePython2024.prima_lezione import Pascal_Triangle\n",
    "\n",
    "PT=Pascal_Triangle()\n",
    "\n",
    "PT.print_triangle()"
   ]
  }
 ],
 "metadata": {
  "kernelspec": {
   "display_name": "Python 3",
   "language": "python",
   "name": "python3"
  },
  "language_info": {
   "codemirror_mode": {
    "name": "ipython",
    "version": 3
   },
   "file_extension": ".py",
   "mimetype": "text/x-python",
   "name": "python",
   "nbconvert_exporter": "python",
   "pygments_lexer": "ipython3",
   "version": "3.11.9"
  }
 },
 "nbformat": 4,
 "nbformat_minor": 2
}
